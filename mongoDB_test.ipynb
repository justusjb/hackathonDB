{
 "cells": [
  {
   "cell_type": "code",
   "id": "initial_id",
   "metadata": {
    "collapsed": true,
    "ExecuteTime": {
     "end_time": "2024-05-14T14:26:17.903059Z",
     "start_time": "2024-05-14T14:26:17.895708Z"
    }
   },
   "source": [
    "from pymongo import MongoClient\n",
    "import os\n",
    "import dotenv\n",
    "from pprint import pprint\n",
    "dotenv.load_dotenv()"
   ],
   "outputs": [
    {
     "data": {
      "text/plain": [
       "True"
      ]
     },
     "execution_count": 45,
     "metadata": {},
     "output_type": "execute_result"
    }
   ],
   "execution_count": 45
  },
  {
   "metadata": {
    "ExecuteTime": {
     "end_time": "2024-05-14T14:26:17.986867Z",
     "start_time": "2024-05-14T14:26:17.904477Z"
    }
   },
   "cell_type": "code",
   "source": [
    "# Connect to the database\n",
    "client = MongoClient(os.environ['MONGODB_URI'])"
   ],
   "id": "72514b1ccea8af9f",
   "outputs": [],
   "execution_count": 46
  },
  {
   "metadata": {
    "ExecuteTime": {
     "end_time": "2024-05-14T14:26:18.353069Z",
     "start_time": "2024-05-14T14:26:17.987659Z"
    }
   },
   "cell_type": "code",
   "source": [
    "# Get the database and collection\n",
    "print(\"Database names:\", client.list_database_names()) # The database is called hackathons_test_1\n",
    "db = client.hackathons_test_1\n",
    "print(\"Collection names:\", db.list_collection_names(), \"\\n\") # The collection in hackathons_test_1 is called hackathons\n",
    "collection = db.hackathons"
   ],
   "id": "5864755d47b28320",
   "outputs": [
    {
     "name": "stdout",
     "output_type": "stream",
     "text": [
      "Database names: ['hackathons_test_1', 'admin', 'local']\n",
      "Collection names: ['hackathons'] \n",
      "\n"
     ]
    }
   ],
   "execution_count": 47
  },
  {
   "metadata": {
    "ExecuteTime": {
     "end_time": "2024-05-14T14:26:18.392082Z",
     "start_time": "2024-05-14T14:26:18.354539Z"
    }
   },
   "cell_type": "code",
   "source": [
    "print(\"All hackathons:\\n\")\n",
    "all_hackathons = collection.find({})\n",
    "for hackathon in all_hackathons:\n",
    "    pprint(hackathon)\n",
    "    \n",
    "print(\"\\nNumber of hackathons in collection:\", collection.count_documents({}))"
   ],
   "id": "97c412f00f08b7c",
   "outputs": [
    {
     "name": "stdout",
     "output_type": "stream",
     "text": [
      "All hackathons:\n",
      "\n",
      "{'_id': ObjectId('664144c10bc20af1017f4f11'),\n",
      " 'date': '2023-05-01',\n",
      " 'name': 'Sample Hackathon'}\n",
      "{'_id': ObjectId('6642447510910f286b86f269'),\n",
      " 'date': '2024-09-23',\n",
      " 'name': 'Hack the North'}\n",
      "\n",
      "Number of hackathons in collection: 2\n"
     ]
    }
   ],
   "execution_count": 48
  },
  {
   "metadata": {
    "ExecuteTime": {
     "end_time": "2024-05-14T14:26:18.497462Z",
     "start_time": "2024-05-14T14:26:18.392714Z"
    }
   },
   "cell_type": "code",
   "source": [
    "print(\"Inserting a new hackathon...\")\n",
    "new_hackathon = {\n",
    "    \"name\": \"HackMIT\",\n",
    "    \"date\": \"2024-09-10\",\n",
    "}\n",
    "new_id = collection.insert_one(new_hackathon)\n",
    "print(\"New hackathon id:\", new_id.inserted_id, \"\\n\")\n",
    "\n",
    "print(\"New hackathon:\")\n",
    "new_hackathon = collection.find_one({\"name\": \"HackMIT\"})\n",
    "pprint(new_hackathon)\n",
    "\n",
    "print(\"\\nUpdating the new hackathon...\")\n",
    "collection.update_one({\"name\": \"HackMIT\"}, {\"$set\": {\"date\": \"2024-09-17\"}})\n",
    "updated_hackathon = collection.find_one({\"name\": \"HackMIT\"})\n",
    "pprint(updated_hackathon)"
   ],
   "id": "1192719db4695c65",
   "outputs": [
    {
     "name": "stdout",
     "output_type": "stream",
     "text": [
      "Inserting a new hackathon...\n",
      "New hackathon id: 6643748a99babe381e140ce5 \n",
      "\n",
      "New hackathon:\n",
      "{'_id': ObjectId('6643748a99babe381e140ce5'),\n",
      " 'date': '2024-09-10',\n",
      " 'name': 'HackMIT'}\n",
      "\n",
      "Updating the new hackathon...\n",
      "{'_id': ObjectId('6643748a99babe381e140ce5'),\n",
      " 'date': '2024-09-17',\n",
      " 'name': 'HackMIT'}\n"
     ]
    }
   ],
   "execution_count": 49
  },
  {
   "metadata": {
    "ExecuteTime": {
     "end_time": "2024-05-14T14:26:18.589319Z",
     "start_time": "2024-05-14T14:26:18.498391Z"
    }
   },
   "cell_type": "code",
   "source": [
    "print(\"All hackathons sorted by name in ascending order:\\n\")\n",
    "# Print all hackathons sorted by name in ascending order\n",
    "all_hackathons = collection.find({}).sort(\"name\", 1)\n",
    "for hackathon in all_hackathons:\n",
    "    pprint(hackathon)\n",
    "    \n",
    "print(\"\\nNumber of hackathons in collection after insertion:\", collection.count_documents({}), \"\\n\")\n",
    "\n",
    "# Delete the new hackathon\n",
    "print(\"Deleting the new hackathon...\")\n",
    "collection.delete_one({\"name\": \"HackMIT\"})\n",
    "print(\"Number of hackathons in collection after deletion:\", collection.count_documents({}))"
   ],
   "id": "b4cc7aa3eea91da1",
   "outputs": [
    {
     "name": "stdout",
     "output_type": "stream",
     "text": [
      "All hackathons sorted by name in ascending order:\n",
      "\n",
      "{'_id': ObjectId('6642447510910f286b86f269'),\n",
      " 'date': '2024-09-23',\n",
      " 'name': 'Hack the North'}\n",
      "{'_id': ObjectId('6643748a99babe381e140ce5'),\n",
      " 'date': '2024-09-17',\n",
      " 'name': 'HackMIT'}\n",
      "{'_id': ObjectId('664144c10bc20af1017f4f11'),\n",
      " 'date': '2023-05-01',\n",
      " 'name': 'Sample Hackathon'}\n",
      "\n",
      "Number of hackathons in collection after insertion: 3 \n",
      "\n",
      "Deleting the new hackathon...\n",
      "Number of hackathons in collection after deletion: 2\n"
     ]
    }
   ],
   "execution_count": 50
  },
  {
   "metadata": {
    "ExecuteTime": {
     "end_time": "2024-05-14T14:26:18.718826Z",
     "start_time": "2024-05-14T14:26:18.590009Z"
    }
   },
   "cell_type": "code",
   "source": [
    "print(\"Inserting many hackathons...\\n\")\n",
    "new_hackathons = [\n",
    "    {\n",
    "        \"name\": \"HackHarvard\",\n",
    "        \"date\": \"2024-12-17\",\n",
    "    },\n",
    "    {\n",
    "        \"name\": \"HackPrinceton\",\n",
    "        \"date\": \"2024-12-24\",\n",
    "    }\n",
    "]\n",
    "collection.insert_many(new_hackathons)\n",
    "\n",
    "print(\"All hackathons in 2024:\\n\")\n",
    "hackathons_in_2024 = collection.find({\"date\": {\"$regex\": \"2024\"}})\n",
    "for hackathon in hackathons_in_2024:\n",
    "    pprint(hackathon)\n",
    "    \n",
    "print(\"\\nNumber of hackathons in collection after insertion:\", collection.count_documents({}), \"\\n\")\n",
    "\n",
    "print(\"Deleting all hackathons in December 2024...\")\n",
    "    \n",
    "collection.delete_many({\"date\": {\"$regex\": \"2024-12\"}})\n",
    "\n",
    "print(\"Number of hackathons in collection after deletion:\", collection.count_documents({}), \"\\n\")"
   ],
   "id": "883ef32cf6f7c40d",
   "outputs": [
    {
     "name": "stdout",
     "output_type": "stream",
     "text": [
      "Inserting many hackathons...\n",
      "\n",
      "All hackathons in 2024:\n",
      "\n",
      "{'_id': ObjectId('6642447510910f286b86f269'),\n",
      " 'date': '2024-09-23',\n",
      " 'name': 'Hack the North'}\n",
      "{'_id': ObjectId('6643748a99babe381e140ce6'),\n",
      " 'date': '2024-12-17',\n",
      " 'name': 'HackHarvard'}\n",
      "{'_id': ObjectId('6643748a99babe381e140ce7'),\n",
      " 'date': '2024-12-24',\n",
      " 'name': 'HackPrinceton'}\n",
      "\n",
      "Number of hackathons in collection after insertion: 4 \n",
      "\n",
      "Deleting all hackathons in December 2024...\n",
      "Number of hackathons in collection after deletion: 2 \n",
      "\n"
     ]
    }
   ],
   "execution_count": 51
  },
  {
   "metadata": {
    "ExecuteTime": {
     "end_time": "2024-05-14T14:26:18.746519Z",
     "start_time": "2024-05-14T14:26:18.719900Z"
    }
   },
   "cell_type": "code",
   "source": "list(collection.find({}))",
   "id": "da576f181e6aab70",
   "outputs": [
    {
     "data": {
      "text/plain": [
       "[{'_id': ObjectId('664144c10bc20af1017f4f11'),\n",
       "  'name': 'Sample Hackathon',\n",
       "  'date': '2023-05-01'},\n",
       " {'_id': ObjectId('6642447510910f286b86f269'),\n",
       "  'name': 'Hack the North',\n",
       "  'date': '2024-09-23'}]"
      ]
     },
     "execution_count": 52,
     "metadata": {},
     "output_type": "execute_result"
    }
   ],
   "execution_count": 52
  },
  {
   "metadata": {
    "ExecuteTime": {
     "end_time": "2024-05-14T14:26:18.770637Z",
     "start_time": "2024-05-14T14:26:18.747345Z"
    }
   },
   "cell_type": "code",
   "source": [
    "# Close the connection\n",
    "client.close()"
   ],
   "id": "ee739042a25437db",
   "outputs": [],
   "execution_count": 53
  },
  {
   "metadata": {
    "ExecuteTime": {
     "end_time": "2024-05-14T14:26:18.774285Z",
     "start_time": "2024-05-14T14:26:18.772764Z"
    }
   },
   "cell_type": "code",
   "source": "",
   "id": "80f8a6de238ac3cb",
   "outputs": [],
   "execution_count": 53
  }
 ],
 "metadata": {
  "kernelspec": {
   "display_name": "Python 3",
   "language": "python",
   "name": "python3"
  },
  "language_info": {
   "codemirror_mode": {
    "name": "ipython",
    "version": 2
   },
   "file_extension": ".py",
   "mimetype": "text/x-python",
   "name": "python",
   "nbconvert_exporter": "python",
   "pygments_lexer": "ipython2",
   "version": "2.7.6"
  }
 },
 "nbformat": 4,
 "nbformat_minor": 5
}
