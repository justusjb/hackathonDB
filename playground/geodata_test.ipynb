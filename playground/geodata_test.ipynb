{
 "cells": [
  {
   "cell_type": "code",
   "id": "initial_id",
   "metadata": {
    "collapsed": true,
    "ExecuteTime": {
     "end_time": "2024-05-23T23:38:24.969619Z",
     "start_time": "2024-05-23T23:38:24.965278Z"
    }
   },
   "source": [
    "import dotenv\n",
    "import os\n",
    "import requests\n",
    "from pprint import pprint\n",
    "\n",
    "dotenv.load_dotenv(\"../backend/.env\")\n",
    "opencage_api_key = os.getenv(\"OPENCAGE_API_KEY\")"
   ],
   "outputs": [],
   "execution_count": 53
  },
  {
   "metadata": {},
   "cell_type": "code",
   "source": [
    "# Using the API\n",
    "\n",
    "city = \"Rio\"\n",
    "country = \"Brazil\"\n",
    "\n",
    "response = requests.get(\n",
    "    f\"https://api.opencagedata.com/geocode/v1/json?q={city},{country}&key={opencage_api_key}\"\n",
    ")\n",
    "\n",
    "pprint(response.json())"
   ],
   "id": "582e694ba195b7a3",
   "outputs": [],
   "execution_count": null
  },
  {
   "metadata": {},
   "cell_type": "code",
   "source": [
    "# Using the SDK\n",
    "\n",
    "from opencage.geocoder import OpenCageGeocode\n",
    "\n",
    "geocoder = OpenCageGeocode(opencage_api_key)\n",
    "\n",
    "query = 'SF, CA, USA'\n",
    "\n",
    "results = geocoder.geocode(query)\n",
    "\n",
    "print(results[0]['geometry']['lat'])\n",
    "print(results[0]['geometry']['lng'])"
   ],
   "id": "11869c4d632c69c3",
   "outputs": [],
   "execution_count": null
  },
  {
   "metadata": {},
   "cell_type": "code",
   "source": [
    "# The response gives us the city name\n",
    "results[0]['components']['city']"
   ],
   "id": "919d495fd3fba25",
   "outputs": [],
   "execution_count": null
  },
  {
   "metadata": {},
   "cell_type": "code",
   "source": [
    "# However, the response does not always contain the city name\n",
    "query = 'Shanghai, China'\n",
    "results = geocoder.geocode(query)\n",
    "results[0]['components']['city'] # KeyError"
   ],
   "id": "5a8f96962ed81501",
   "outputs": [],
   "execution_count": null
  },
  {
   "metadata": {},
   "cell_type": "code",
   "source": [
    "# That's because it is returning the municipality of Shanghai, which is classified as a state in the response and therefore does not have a city name\n",
    "results[0]['components']['_type'] # state"
   ],
   "id": "d1f3c311e463c2d1",
   "outputs": [],
   "execution_count": null
  },
  {
   "metadata": {},
   "cell_type": "code",
   "source": [
    "# We can mitigate this by not always using the first result of the response, but by iterating over all results and checking if the type is city\n",
    "# Additionally, we add \"city of\" to the query to increase the chances of having the city in the response\n",
    "\n",
    "QUERY_PREFIX = 'city of'\n",
    "query = 'Shanghai, China'\n",
    "\n",
    "results = geocoder.geocode(f\"{QUERY_PREFIX} {query}\")\n",
    "print(\"# results: \", len(results), \"\\n\")\n",
    "\n",
    "city_index = None\n",
    "\n",
    "for i, result in enumerate(results):\n",
    "    print(result['components']['_type'])\n",
    "    if result['components']['_type'] == 'city':\n",
    "        city_index = i\n",
    "        break\n",
    "        \n",
    "if city_index is None:\n",
    "    raise Exception(\"City not found in response\")\n",
    "\n",
    "print()\n",
    "print(\"latitude:\", results[city_index]['geometry']['lat'])\n",
    "print(\"longitude:\", results[city_index]['geometry']['lng'])\n",
    "print(\"type:\", results[city_index]['components']['_type'])\n",
    "print(\"city name:\", results[city_index]['components']['_normalized_city'])\n"
   ],
   "id": "14465631ee36bffd",
   "outputs": [],
   "execution_count": null
  },
  {
   "metadata": {},
   "cell_type": "code",
   "source": "results[city_index]",
   "id": "18e65ed3ed2cd923",
   "outputs": [],
   "execution_count": null
  },
  {
   "metadata": {},
   "cell_type": "code",
   "outputs": [],
   "execution_count": null,
   "source": "",
   "id": "5dd03e34f54b85d6"
  }
 ],
 "metadata": {
  "kernelspec": {
   "display_name": "Python 3",
   "language": "python",
   "name": "python3"
  },
  "language_info": {
   "codemirror_mode": {
    "name": "ipython",
    "version": 2
   },
   "file_extension": ".py",
   "mimetype": "text/x-python",
   "name": "python",
   "nbconvert_exporter": "python",
   "pygments_lexer": "ipython2",
   "version": "2.7.6"
  }
 },
 "nbformat": 4,
 "nbformat_minor": 5
}
