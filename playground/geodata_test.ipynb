{
 "cells": [
  {
   "cell_type": "code",
   "id": "initial_id",
   "metadata": {
    "collapsed": true,
    "ExecuteTime": {
     "end_time": "2024-05-23T23:38:24.969619Z",
     "start_time": "2024-05-23T23:38:24.965278Z"
    }
   },
   "source": [
    "import dotenv\n",
    "import os\n",
    "import requests\n",
    "from pprint import pprint\n",
    "\n",
    "dotenv.load_dotenv(\"../backend/.env\")\n",
    "opencage_api_key = os.getenv(\"OPENCAGE_API_KEY\")"
   ],
   "outputs": [],
   "execution_count": 53
  },
  {
   "metadata": {
    "ExecuteTime": {
     "end_time": "2024-05-23T23:38:31.953309Z",
     "start_time": "2024-05-23T23:38:31.605948Z"
    }
   },
   "cell_type": "code",
   "source": [
    "# Using the API\n",
    "\n",
    "city = \"Rio\"\n",
    "country = \"Brazil\"\n",
    "\n",
    "response = requests.get(\n",
    "    f\"https://api.opencagedata.com/geocode/v1/json?q={city},{country}&key={opencage_api_key}\"\n",
    ")\n",
    "\n",
    "pprint(response.json())"
   ],
   "id": "582e694ba195b7a3",
   "outputs": [
    {
     "name": "stdout",
     "output_type": "stream",
     "text": [
      "{'documentation': 'https://opencagedata.com/api',\n",
      " 'licenses': [{'name': 'see attribution guide',\n",
      "               'url': 'https://opencagedata.com/credits'}],\n",
      " 'rate': {'limit': 2500, 'remaining': 2461, 'reset': 1716508800},\n",
      " 'results': [{'annotations': {'DMS': {'lat': \"22° 54' 39.64932'' S\",\n",
      "                                      'lng': \"43° 12' 33.74172'' W\"},\n",
      "                              'MGRS': '23KPQ8364765213',\n",
      "                              'Maidenhead': 'GG87jc41vi',\n",
      "                              'Mercator': {'x': -4810045.366,\n",
      "                                           'y': -2604632.919},\n",
      "                              'OSM': {'edit_url': 'https://www.openstreetmap.org/edit?relation=2697338#map=17/-22.91101/-43.20937',\n",
      "                                      'note_url': 'https://www.openstreetmap.org/note/new#map=17/-22.91101/-43.20937&layers=N',\n",
      "                                      'url': 'https://www.openstreetmap.org/?mlat=-22.91101&mlon=-43.20937#map=17/-22.91101/-43.20937'},\n",
      "                              'UN_M49': {'regions': {'AMERICAS': '019',\n",
      "                                                     'BR': '076',\n",
      "                                                     'LATIN_AMERICA': '419',\n",
      "                                                     'SOUTH_AMERICA': '005',\n",
      "                                                     'WORLD': '001'},\n",
      "                                         'statistical_groupings': ['LEDC']},\n",
      "                              'callingcode': 55,\n",
      "                              'currency': {'decimal_mark': ',',\n",
      "                                           'html_entity': 'R$',\n",
      "                                           'iso_code': 'BRL',\n",
      "                                           'iso_numeric': '986',\n",
      "                                           'name': 'Brazilian Real',\n",
      "                                           'smallest_denomination': 5,\n",
      "                                           'subunit': 'Centavo',\n",
      "                                           'subunit_to_unit': 100,\n",
      "                                           'symbol': 'R$',\n",
      "                                           'symbol_first': 1,\n",
      "                                           'thousands_separator': '.'},\n",
      "                              'flag': '🇧🇷',\n",
      "                              'geohash': '75cm8tpvstkrz8uhcge0',\n",
      "                              'qibla': 67.63,\n",
      "                              'roadinfo': {'drive_on': 'right',\n",
      "                                           'speed_in': 'km/h'},\n",
      "                              'sun': {'rise': {'apparent': 1716456180,\n",
      "                                               'astronomical': 1716451500,\n",
      "                                               'civil': 1716454740,\n",
      "                                               'nautical': 1716453120},\n",
      "                                      'set': {'apparent': 1716495360,\n",
      "                                              'astronomical': 1716500040,\n",
      "                                              'civil': 1716496800,\n",
      "                                              'nautical': 1716498420}},\n",
      "                              'timezone': {'name': 'America/Sao_Paulo',\n",
      "                                           'now_in_dst': 0,\n",
      "                                           'offset_sec': -10800,\n",
      "                                           'offset_string': '-0300',\n",
      "                                           'short_name': 'BRT'},\n",
      "                              'what3words': {'words': 'zones.stage.stewing'},\n",
      "                              'wikidata': 'Q8678'},\n",
      "              'bounds': {'northeast': {'lat': -22.7460878, 'lng': -43.0990811},\n",
      "                         'southwest': {'lat': -23.0827051, 'lng': -43.796252}},\n",
      "              'components': {'ISO_3166-1_alpha-2': 'BR',\n",
      "                             'ISO_3166-1_alpha-3': 'BRA',\n",
      "                             'ISO_3166-2': ['BR-RJ'],\n",
      "                             '_category': 'place',\n",
      "                             '_normalized_city': 'Rio de Janeiro',\n",
      "                             '_type': 'municipality',\n",
      "                             'continent': 'South America',\n",
      "                             'country': 'Brazil',\n",
      "                             'country_code': 'br',\n",
      "                             'county': 'Região Metropolitana do Rio de Janeiro',\n",
      "                             'municipality': 'Rio de Janeiro',\n",
      "                             'region': 'Southeast Region',\n",
      "                             'state': 'Rio de Janeiro',\n",
      "                             'state_code': 'RJ',\n",
      "                             'state_district': 'Região Geográfica '\n",
      "                                               'Intermediária do Rio de '\n",
      "                                               'Janeiro'},\n",
      "              'confidence': 1,\n",
      "              'formatted': 'Rio de Janeiro, Região Metropolitana do Rio de '\n",
      "                           'Janeiro, Brazil',\n",
      "              'geometry': {'lat': -22.9110137, 'lng': -43.2093727}},\n",
      "             {'annotations': {'DMS': {'lat': \"22° 15' 0.00000'' S\",\n",
      "                                      'lng': \"42° 30' 0.00000'' W\"},\n",
      "                              'MGRS': '23KQR5765637371',\n",
      "                              'Maidenhead': 'GG87ss00aa',\n",
      "                              'Mercator': {'x': -4731078.359,\n",
      "                                           'y': -2525394.713},\n",
      "                              'OSM': {'note_url': 'https://www.openstreetmap.org/note/new#map=17/-22.25000/-42.50000&layers=N',\n",
      "                                      'url': 'https://www.openstreetmap.org/?mlat=-22.25000&mlon=-42.50000#map=17/-22.25000/-42.50000'},\n",
      "                              'UN_M49': {'regions': {'AMERICAS': '019',\n",
      "                                                     'BR': '076',\n",
      "                                                     'LATIN_AMERICA': '419',\n",
      "                                                     'SOUTH_AMERICA': '005',\n",
      "                                                     'WORLD': '001'},\n",
      "                                         'statistical_groupings': ['LEDC']},\n",
      "                              'callingcode': 55,\n",
      "                              'currency': {'decimal_mark': ',',\n",
      "                                           'html_entity': 'R$',\n",
      "                                           'iso_code': 'BRL',\n",
      "                                           'iso_numeric': '986',\n",
      "                                           'name': 'Brazilian Real',\n",
      "                                           'smallest_denomination': 5,\n",
      "                                           'subunit': 'Centavo',\n",
      "                                           'subunit_to_unit': 100,\n",
      "                                           'symbol': 'R$',\n",
      "                                           'symbol_first': 1,\n",
      "                                           'thousands_separator': '.'},\n",
      "                              'flag': '🇧🇷',\n",
      "                              'geohash': '7h1c2vs2q5rh5dcg0bsq',\n",
      "                              'qibla': 67.34,\n",
      "                              'roadinfo': {'drive_on': 'right',\n",
      "                                           'speed_in': 'km/h'},\n",
      "                              'sun': {'rise': {'apparent': 1716455940,\n",
      "                                               'astronomical': 1716451260,\n",
      "                                               'civil': 1716454560,\n",
      "                                               'nautical': 1716452880},\n",
      "                                      'set': {'apparent': 1716495240,\n",
      "                                              'astronomical': 1716499920,\n",
      "                                              'civil': 1716496680,\n",
      "                                              'nautical': 1716498300}},\n",
      "                              'timezone': {'name': 'America/Sao_Paulo',\n",
      "                                           'now_in_dst': 0,\n",
      "                                           'offset_sec': -10800,\n",
      "                                           'offset_string': '-0300',\n",
      "                                           'short_name': 'BRT'},\n",
      "                              'what3words': {'words': 'motorbikes.removals.sphere'}},\n",
      "              'bounds': {'northeast': {'lat': -20.4771957, 'lng': -39.8364258},\n",
      "                         'southwest': {'lat': -23.8858376, 'lng': -45.703125}},\n",
      "              'components': {'ISO_3166-1_alpha-2': 'BR',\n",
      "                             'ISO_3166-1_alpha-3': 'BRA',\n",
      "                             '_category': 'place',\n",
      "                             '_type': 'state',\n",
      "                             'continent': 'South America',\n",
      "                             'country': 'Brazil',\n",
      "                             'country_code': 'br',\n",
      "                             'state': 'Rio de Janeiro',\n",
      "                             'state_code': 'RJ'},\n",
      "              'confidence': 1,\n",
      "              'formatted': 'Rio de Janeiro, Brazil',\n",
      "              'geometry': {'lat': -22.25, 'lng': -42.5}}],\n",
      " 'status': {'code': 200, 'message': 'OK'},\n",
      " 'stay_informed': {'blog': 'https://blog.opencagedata.com',\n",
      "                   'mastodon': 'https://en.osm.town/@opencage'},\n",
      " 'thanks': 'For using an OpenCage API',\n",
      " 'timestamp': {'created_http': 'Thu, 23 May 2024 23:38:31 GMT',\n",
      "               'created_unix': 1716507511},\n",
      " 'total_results': 2}\n"
     ]
    }
   ],
   "execution_count": 54
  },
  {
   "metadata": {
    "ExecuteTime": {
     "end_time": "2024-05-23T23:38:36.134820Z",
     "start_time": "2024-05-23T23:38:35.842683Z"
    }
   },
   "cell_type": "code",
   "source": [
    "# Using the SDK\n",
    "\n",
    "from opencage.geocoder import OpenCageGeocode\n",
    "\n",
    "geocoder = OpenCageGeocode(opencage_api_key)\n",
    "\n",
    "query = 'SF, CA, USA'\n",
    "\n",
    "results = geocoder.geocode(query)\n",
    "\n",
    "print(results[0]['geometry']['lat'])\n",
    "print(results[0]['geometry']['lng'])"
   ],
   "id": "11869c4d632c69c3",
   "outputs": [
    {
     "name": "stdout",
     "output_type": "stream",
     "text": [
      "37.7792588\n",
      "-122.4193286\n"
     ]
    }
   ],
   "execution_count": 55
  },
  {
   "metadata": {
    "ExecuteTime": {
     "end_time": "2024-05-23T23:38:42.507207Z",
     "start_time": "2024-05-23T23:38:42.502925Z"
    }
   },
   "cell_type": "code",
   "source": [
    "# The response gives us the city name\n",
    "results[0]['components']['city']"
   ],
   "id": "919d495fd3fba25",
   "outputs": [
    {
     "data": {
      "text/plain": [
       "'San Francisco'"
      ]
     },
     "execution_count": 56,
     "metadata": {},
     "output_type": "execute_result"
    }
   ],
   "execution_count": 56
  },
  {
   "metadata": {
    "ExecuteTime": {
     "end_time": "2024-05-23T23:38:48.036802Z",
     "start_time": "2024-05-23T23:38:47.342973Z"
    }
   },
   "cell_type": "code",
   "source": [
    "# However, the response does not always contain the city name\n",
    "query = 'Shanghai, China'\n",
    "results = geocoder.geocode(query)\n",
    "results[0]['components']['city'] # KeyError"
   ],
   "id": "5a8f96962ed81501",
   "outputs": [
    {
     "ename": "KeyError",
     "evalue": "'city'",
     "output_type": "error",
     "traceback": [
      "\u001B[0;31m---------------------------------------------------------------------------\u001B[0m",
      "\u001B[0;31mKeyError\u001B[0m                                  Traceback (most recent call last)",
      "Cell \u001B[0;32mIn[57], line 4\u001B[0m\n\u001B[1;32m      2\u001B[0m query \u001B[38;5;241m=\u001B[39m \u001B[38;5;124m'\u001B[39m\u001B[38;5;124mShanghai, China\u001B[39m\u001B[38;5;124m'\u001B[39m\n\u001B[1;32m      3\u001B[0m results \u001B[38;5;241m=\u001B[39m geocoder\u001B[38;5;241m.\u001B[39mgeocode(query)\n\u001B[0;32m----> 4\u001B[0m \u001B[43mresults\u001B[49m\u001B[43m[\u001B[49m\u001B[38;5;241;43m0\u001B[39;49m\u001B[43m]\u001B[49m\u001B[43m[\u001B[49m\u001B[38;5;124;43m'\u001B[39;49m\u001B[38;5;124;43mcomponents\u001B[39;49m\u001B[38;5;124;43m'\u001B[39;49m\u001B[43m]\u001B[49m\u001B[43m[\u001B[49m\u001B[38;5;124;43m'\u001B[39;49m\u001B[38;5;124;43mcity\u001B[39;49m\u001B[38;5;124;43m'\u001B[39;49m\u001B[43m]\u001B[49m \u001B[38;5;66;03m# KeyError\u001B[39;00m\n",
      "\u001B[0;31mKeyError\u001B[0m: 'city'"
     ]
    }
   ],
   "execution_count": 57
  },
  {
   "metadata": {
    "ExecuteTime": {
     "end_time": "2024-05-23T23:38:52.382688Z",
     "start_time": "2024-05-23T23:38:52.379304Z"
    }
   },
   "cell_type": "code",
   "source": [
    "# That's because it is returning the municipality of Shanghai, which is classified as a state in the response and therefore does not have a city name\n",
    "results[0]['components']['_type'] # state"
   ],
   "id": "d1f3c311e463c2d1",
   "outputs": [
    {
     "data": {
      "text/plain": [
       "'state'"
      ]
     },
     "execution_count": 58,
     "metadata": {},
     "output_type": "execute_result"
    }
   ],
   "execution_count": 58
  },
  {
   "metadata": {
    "ExecuteTime": {
     "end_time": "2024-05-23T23:40:55.680488Z",
     "start_time": "2024-05-23T23:40:55.179103Z"
    }
   },
   "cell_type": "code",
   "source": [
    "# We can mitigate this by not always using the first result of the response, but by iterating over all results and checking if the type is city\n",
    "# Additionally, we add \"city of\" to the query to increase the chances of having the city in the response\n",
    "\n",
    "QUERY_PREFIX = 'city of'\n",
    "query = 'Shanghai, China'\n",
    "\n",
    "results = geocoder.geocode(f\"{QUERY_PREFIX} {query}\")\n",
    "print(\"# results: \", len(results), \"\\n\")\n",
    "\n",
    "city_index = None\n",
    "\n",
    "for i, result in enumerate(results):\n",
    "    print(result['components']['_type'])\n",
    "    if result['components']['_type'] == 'city':\n",
    "        city_index = i\n",
    "        break\n",
    "        \n",
    "if city_index is None:\n",
    "    raise Exception(\"City not found in response\")\n",
    "\n",
    "print()\n",
    "print(\"latitude:\", results[city_index]['geometry']['lat'])\n",
    "print(\"longitude:\", results[city_index]['geometry']['lng'])\n",
    "print(\"type:\", results[city_index]['components']['_type'])\n",
    "print(\"city name:\", results[city_index]['components']['_normalized_city'])\n"
   ],
   "id": "14465631ee36bffd",
   "outputs": [
    {
     "name": "stdout",
     "output_type": "stream",
     "text": [
      "# results:  2 \n",
      "\n",
      "attraction\n",
      "city\n",
      "\n",
      "latitude: 31.22222\n",
      "longitude: 121.45806\n",
      "type: city\n",
      "city name: Shanghai\n"
     ]
    }
   ],
   "execution_count": 59
  },
  {
   "metadata": {
    "ExecuteTime": {
     "end_time": "2024-05-23T23:42:57.635182Z",
     "start_time": "2024-05-23T23:42:57.630557Z"
    }
   },
   "cell_type": "code",
   "source": "results[city_index]",
   "id": "18e65ed3ed2cd923",
   "outputs": [
    {
     "data": {
      "text/plain": [
       "{'annotations': {'DMS': {'lat': \"31° 13' 19.99200'' N\",\n",
       "   'lng': \"121° 27' 29.01600'' E\"},\n",
       "  'MGRS': '51RUQ5313155254',\n",
       "  'Maidenhead': 'PM01rf43xh',\n",
       "  'Mercator': {'x': 13520649.392, 'y': 3639496.398},\n",
       "  'OSM': {'note_url': 'https://www.openstreetmap.org/note/new#map=17/31.22222/121.45806&layers=N',\n",
       "   'url': 'https://www.openstreetmap.org/?mlat=31.22222&mlon=121.45806#map=17/31.22222/121.45806'},\n",
       "  'UN_M49': {'regions': {'ASIA': '142',\n",
       "    'CN': '156',\n",
       "    'EASTERN_ASIA': '030',\n",
       "    'WORLD': '001'},\n",
       "   'statistical_groupings': ['LEDC']},\n",
       "  'callingcode': 86,\n",
       "  'currency': {'alternate_symbols': ['CN¥', '元', 'CN元'],\n",
       "   'decimal_mark': '.',\n",
       "   'html_entity': '￥',\n",
       "   'iso_code': 'CNY',\n",
       "   'iso_numeric': '156',\n",
       "   'name': 'Chinese Renminbi Yuan',\n",
       "   'smallest_denomination': 1,\n",
       "   'subunit': 'Fen',\n",
       "   'subunit_to_unit': 100,\n",
       "   'symbol': '¥',\n",
       "   'symbol_first': 1,\n",
       "   'thousands_separator': ','},\n",
       "  'flag': '🇨🇳',\n",
       "  'geohash': 'wtw3egg49gtsvqt7np5t',\n",
       "  'qibla': 284.73,\n",
       "  'roadinfo': {'drive_on': 'right', 'speed_in': 'km/h'},\n",
       "  'sun': {'rise': {'apparent': 1716497700,\n",
       "    'astronomical': 1716492060,\n",
       "    'civil': 1716496080,\n",
       "    'nautical': 1716494160},\n",
       "   'set': {'apparent': 1716461220,\n",
       "    'astronomical': 1716466860,\n",
       "    'civil': 1716462840,\n",
       "    'nautical': 1716464820}},\n",
       "  'timezone': {'name': 'Asia/Shanghai',\n",
       "   'now_in_dst': 0,\n",
       "   'offset_sec': 28800,\n",
       "   'offset_string': '+0800',\n",
       "   'short_name': 'CST'},\n",
       "  'what3words': {'words': 'premiums.fenced.starting'}},\n",
       " 'bounds': {'northeast': {'lat': 31.4142432, 'lng': 121.7005617},\n",
       "  'southwest': {'lat': 30.9827173, 'lng': 121.2071649}},\n",
       " 'components': {'ISO_3166-1_alpha-2': 'CN',\n",
       "  'ISO_3166-1_alpha-3': 'CHN',\n",
       "  '_category': 'place',\n",
       "  '_normalized_city': 'Shanghai',\n",
       "  '_type': 'city',\n",
       "  'continent': 'Asia',\n",
       "  'country': 'China',\n",
       "  'country_code': 'cn',\n",
       "  'state': 'Shanghai Shi',\n",
       "  'town': 'Shanghai'},\n",
       " 'confidence': 2,\n",
       " 'formatted': 'Shanghai, Shanghai Shi, China',\n",
       " 'geometry': {'lat': 31.22222, 'lng': 121.45806}}"
      ]
     },
     "execution_count": 60,
     "metadata": {},
     "output_type": "execute_result"
    }
   ],
   "execution_count": 60
  },
  {
   "metadata": {},
   "cell_type": "code",
   "outputs": [],
   "execution_count": null,
   "source": "",
   "id": "5dd03e34f54b85d6"
  }
 ],
 "metadata": {
  "kernelspec": {
   "display_name": "Python 3",
   "language": "python",
   "name": "python3"
  },
  "language_info": {
   "codemirror_mode": {
    "name": "ipython",
    "version": 2
   },
   "file_extension": ".py",
   "mimetype": "text/x-python",
   "name": "python",
   "nbconvert_exporter": "python",
   "pygments_lexer": "ipython2",
   "version": "2.7.6"
  }
 },
 "nbformat": 4,
 "nbformat_minor": 5
}
