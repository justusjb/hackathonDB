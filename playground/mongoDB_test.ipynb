{
 "cells": [
  {
   "cell_type": "code",
   "id": "initial_id",
   "metadata": {
    "collapsed": true
   },
   "source": [
    "from pymongo import MongoClient\n",
    "import os\n",
    "import dotenv\n",
    "from pprint import pprint\n",
    "dotenv.load_dotenv()"
   ],
   "outputs": [],
   "execution_count": null
  },
  {
   "metadata": {
    "ExecuteTime": {
     "end_time": "2024-05-14T14:26:17.986867Z",
     "start_time": "2024-05-14T14:26:17.904477Z"
    }
   },
   "cell_type": "code",
   "source": [
    "# Connect to the database\n",
    "client = MongoClient(os.environ['MONGODB_URI'])"
   ],
   "id": "72514b1ccea8af9f",
   "outputs": [],
   "execution_count": 46
  },
  {
   "metadata": {},
   "cell_type": "code",
   "source": [
    "# Get the database and collection\n",
    "print(\"Database names:\", client.list_database_names()) # The database is called hackathons_test_1\n",
    "db = client.hackathons_test_1\n",
    "print(\"Collection names:\", db.list_collection_names(), \"\\n\") # The collection in hackathons_test_1 is called hackathons\n",
    "collection = db.hackathons"
   ],
   "id": "5864755d47b28320",
   "outputs": [],
   "execution_count": null
  },
  {
   "metadata": {},
   "cell_type": "code",
   "source": [
    "print(\"All hackathons:\\n\")\n",
    "all_hackathons = collection.find({})\n",
    "for hackathon in all_hackathons:\n",
    "    pprint(hackathon)\n",
    "    \n",
    "print(\"\\nNumber of hackathons in collection:\", collection.count_documents({}))"
   ],
   "id": "97c412f00f08b7c",
   "outputs": [],
   "execution_count": null
  },
  {
   "metadata": {},
   "cell_type": "code",
   "source": [
    "print(\"Inserting a new hackathon...\")\n",
    "new_hackathon = {\n",
    "    \"name\": \"HackMIT\",\n",
    "    \"date\": \"2024-09-10\",\n",
    "}\n",
    "new_id = collection.insert_one(new_hackathon)\n",
    "print(\"New hackathon id:\", new_id.inserted_id, \"\\n\")\n",
    "\n",
    "print(\"New hackathon:\")\n",
    "new_hackathon = collection.find_one({\"name\": \"HackMIT\"})\n",
    "pprint(new_hackathon)\n",
    "\n",
    "print(\"\\nUpdating the new hackathon...\")\n",
    "collection.update_one({\"name\": \"HackMIT\"}, {\"$set\": {\"date\": \"2024-09-17\"}})\n",
    "updated_hackathon = collection.find_one({\"name\": \"HackMIT\"})\n",
    "pprint(updated_hackathon)"
   ],
   "id": "1192719db4695c65",
   "outputs": [],
   "execution_count": null
  },
  {
   "metadata": {},
   "cell_type": "code",
   "source": [
    "print(\"All hackathons sorted by name in ascending order:\\n\")\n",
    "# Print all hackathons sorted by name in ascending order\n",
    "all_hackathons = collection.find({}).sort(\"name\", 1)\n",
    "for hackathon in all_hackathons:\n",
    "    pprint(hackathon)\n",
    "    \n",
    "print(\"\\nNumber of hackathons in collection after insertion:\", collection.count_documents({}), \"\\n\")\n",
    "\n",
    "# Delete the new hackathon\n",
    "print(\"Deleting the new hackathon...\")\n",
    "collection.delete_one({\"name\": \"HackMIT\"})\n",
    "print(\"Number of hackathons in collection after deletion:\", collection.count_documents({}))"
   ],
   "id": "b4cc7aa3eea91da1",
   "outputs": [],
   "execution_count": null
  },
  {
   "metadata": {},
   "cell_type": "code",
   "source": [
    "print(\"Inserting many hackathons...\\n\")\n",
    "new_hackathons = [\n",
    "    {\n",
    "        \"name\": \"HackHarvard\",\n",
    "        \"date\": \"2024-12-17\",\n",
    "    },\n",
    "    {\n",
    "        \"name\": \"HackPrinceton\",\n",
    "        \"date\": \"2024-12-24\",\n",
    "    }\n",
    "]\n",
    "collection.insert_many(new_hackathons)\n",
    "\n",
    "print(\"All hackathons in 2024:\\n\")\n",
    "hackathons_in_2024 = collection.find({\"date\": {\"$regex\": \"2024\"}})\n",
    "for hackathon in hackathons_in_2024:\n",
    "    pprint(hackathon)\n",
    "    \n",
    "print(\"\\nNumber of hackathons in collection after insertion:\", collection.count_documents({}), \"\\n\")\n",
    "\n",
    "print(\"Deleting all hackathons in December 2024...\")\n",
    "    \n",
    "collection.delete_many({\"date\": {\"$regex\": \"2024-12\"}})\n",
    "\n",
    "print(\"Number of hackathons in collection after deletion:\", collection.count_documents({}), \"\\n\")"
   ],
   "id": "883ef32cf6f7c40d",
   "outputs": [],
   "execution_count": null
  },
  {
   "metadata": {},
   "cell_type": "code",
   "source": "list(collection.find({}))",
   "id": "da576f181e6aab70",
   "outputs": [],
   "execution_count": null
  },
  {
   "metadata": {
    "ExecuteTime": {
     "end_time": "2024-05-14T14:26:18.770637Z",
     "start_time": "2024-05-14T14:26:18.747345Z"
    }
   },
   "cell_type": "code",
   "source": [
    "# Close the connection\n",
    "client.close()"
   ],
   "id": "ee739042a25437db",
   "outputs": [],
   "execution_count": 53
  },
  {
   "metadata": {
    "ExecuteTime": {
     "end_time": "2024-05-14T14:26:18.774285Z",
     "start_time": "2024-05-14T14:26:18.772764Z"
    }
   },
   "cell_type": "code",
   "source": "",
   "id": "80f8a6de238ac3cb",
   "outputs": [],
   "execution_count": 53
  }
 ],
 "metadata": {
  "kernelspec": {
   "display_name": "Python 3",
   "language": "python",
   "name": "python3"
  },
  "language_info": {
   "codemirror_mode": {
    "name": "ipython",
    "version": 2
   },
   "file_extension": ".py",
   "mimetype": "text/x-python",
   "name": "python",
   "nbconvert_exporter": "python",
   "pygments_lexer": "ipython2",
   "version": "2.7.6"
  }
 },
 "nbformat": 4,
 "nbformat_minor": 5
}
